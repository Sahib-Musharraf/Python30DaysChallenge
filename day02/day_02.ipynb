{
 "cells": [
  {
   "cell_type": "markdown",
   "id": "5ead8022",
   "metadata": {},
   "source": [
    "# **Day 02 Variables and Data Types 🐍**"
   ]
  },
  {
   "cell_type": "markdown",
   "id": "b62c75ca",
   "metadata": {},
   "source": [
    "\n",
    "Imagine you're organizing items in your room. You have a bunch of boxes, and you label each one to know what's inside:\n",
    "\n",
    "One box is labeled \"socks\" and contains your socks.\n",
    "\n",
    "Another is labeled \"books\" and contains your books.\n",
    "\n",
    "Another is labeled \"money\" and contains $100.\n",
    "\n",
    "Now, you can look at the label to know what’s inside, and you can also change what’s inside the box anytime.\n",
    "\n",
    "In Python Terms:\n",
    "\n",
    "A variable is like the label on the box.\n",
    "\n",
    "The value is the item inside the box.\n",
    "\n",
    "You can change the value any time by putting something new in the box.\n"
   ]
  },
  {
   "cell_type": "code",
   "execution_count": 1,
   "id": "6845aecd",
   "metadata": {},
   "outputs": [],
   "source": [
    "money = 100       # Label: money, Value: 100\n",
    "money = 50        # Now the value inside is changed to 50"
   ]
  },
  {
   "cell_type": "markdown",
   "id": "c6157b4a",
   "metadata": {},
   "source": [
    "You can even put different kinds of things in different boxes:"
   ]
  },
  {
   "cell_type": "code",
   "execution_count": null,
   "id": "63a69d7f",
   "metadata": {},
   "outputs": [],
   "source": [
    "name = \"Sahib\"    # A box labeled name with \"Sahib\" inside\n",
    "age = 26          # A box labeled age with number 26 inside\n",
    "is_happy = True   # A box labeled is_happy with True inside"
   ]
  },
  {
   "cell_type": "markdown",
   "id": "33abee36",
   "metadata": {},
   "source": [
    "↪️Let's understand with another example"
   ]
  },
  {
   "cell_type": "markdown",
   "id": "ca2380d9",
   "metadata": {},
   "source": [
    "Think of saving someone's number in your phone.\n",
    "\n",
    "You save the number 91919191919 under the name \"Mom\".\n",
    "\n",
    "Now, whenever you want to call your mom, you just tap \"Mom\"-you don’t need to remember the number.\n",
    "\n",
    "Later, if your mom changes her phone number, you update it under the same name \"Mom\", and all your calls/texts still work."
   ]
  },
  {
   "cell_type": "markdown",
   "id": "f681b8cb",
   "metadata": {},
   "source": [
    " ✔️In Python Terms:\n",
    "The contact name (\"Mom\") is the variable name.\n",
    "\n",
    "The phone number is the value assigned to the variable."
   ]
  },
  {
   "cell_type": "code",
   "execution_count": 1,
   "id": "2612a854",
   "metadata": {},
   "outputs": [
    {
     "name": "stdout",
     "output_type": "stream",
     "text": [
      "9191919191\n",
      "8181818181\n"
     ]
    }
   ],
   "source": [
    "mom = \"9191919191\"  # Assign number to variable mom\n",
    "print(mom)               # Outputs: 9191919191\n",
    "\n",
    "# Later, mom gets a new number:\n",
    "mom = \"8181818181\"  # Reassign the variable\n",
    "print(mom)               # Outputs: 8181818181\n"
   ]
  },
  {
   "cell_type": "markdown",
   "id": "35ca8be0",
   "metadata": {},
   "source": [
    "🐍 **Python Data Types – Explained Simply**"
   ]
  },
  {
   "cell_type": "markdown",
   "id": "480e358d",
   "metadata": {},
   "source": [
    "In Python, data types tell the computer what kind of value we are using - like a number, text, list, etc.\n",
    "\n",
    "Python is a dynamically typed language, which means you don’t have to declare the data type of a variable explicitly. Python automatically detects it based on the value assigned.\n",
    "\n",
    "| Type       | Description                  | Example             |\n",
    "| ---------- | ---------------------------- | ------------------- |\n",
    "| `int`      | Integer (whole number)       | `x = 10`            |\n",
    "| `float`    | Floating point (decimal)     | `y = 3.14`          |\n",
    "| `str`      | Text string                  | `name = \"Python\"`   |\n",
    "| `bool`     | Boolean value                | `is_valid = True`   |\n",
    "| `list`     | Mutable ordered collection   | `items = [1, 2, 3]` |\n",
    "| `tuple`    | Immutable ordered collection | `point = (4, 5)`    |\n",
    "| `dict`     | Key-value mapping            | `{\"a\": 1, \"b\": 2}`  |\n",
    "| `set`      | Unique unordered elements    | `{1, 2, 3}`         |\n",
    "| `NoneType` | Represents \"no value\"        | `value = None`      |\n"
   ]
  },
  {
   "cell_type": "markdown",
   "id": "6d602e3b",
   "metadata": {},
   "source": [
    "**🎯** **Challenge**\n",
    "- **Calculate the area of a rectangle using user-input length and width**"
   ]
  },
  {
   "cell_type": "code",
   "execution_count": 4,
   "id": "9ceaac89",
   "metadata": {},
   "outputs": [
    {
     "name": "stdout",
     "output_type": "stream",
     "text": [
      "The area of the rectangle is: 120.0\n"
     ]
    }
   ],
   "source": [
    "#length and width\n",
    "length = float(input(\"Enter the length of the rectangle: \"))\n",
    "width = float(input(\"Enter the width of the rectangle: \"))\n",
    "\n",
    "# Calculate the area\n",
    "area = length * width\n",
    "\n",
    "\n",
    "# Print the result\n",
    "print(\"The area of the rectangle is:\", area)"
   ]
  }
 ],
 "metadata": {
  "kernelspec": {
   "display_name": "Python 3",
   "language": "python",
   "name": "python3"
  },
  "language_info": {
   "codemirror_mode": {
    "name": "ipython",
    "version": 3
   },
   "file_extension": ".py",
   "mimetype": "text/x-python",
   "name": "python",
   "nbconvert_exporter": "python",
   "pygments_lexer": "ipython3",
   "version": "3.13.3"
  }
 },
 "nbformat": 4,
 "nbformat_minor": 5
}
