{
 "cells": [
  {
   "cell_type": "code",
   "execution_count": 1,
   "id": "5a76cd0e",
   "metadata": {},
   "outputs": [
    {
     "name": "stdout",
     "output_type": "stream",
     "text": [
      "--- Setting Up Our Tech Shop ---\n",
      "Right now, our shelves are empty: {}\n",
      "--------------------------------------\n",
      "--- Adding New Gadgets! ---\n",
      "After putting items on the shelves: {'Smartphones': 50, 'Laptops': 20, 'Wireless Earbuds': 75}\n",
      "--------------------------------------\n",
      "--- Checking How Many I Have ---\n",
      "How many Smartphones are in stock? 50\n",
      "Do we have any Smartwatches? None in stock!\n",
      "--------------------------------------\n",
      "--- Updating Our Stock ---\n",
      "After a new delivery of Smartphones: {'Smartphones': 65, 'Laptops': 20, 'Wireless Earbuds': 75}\n",
      "After selling some Laptops: {'Smartphones': 65, 'Laptops': 15, 'Wireless Earbuds': 75}\n",
      "--------------------------------------\n",
      "--- Removing Items From Stock ---\n",
      "Before removing Wireless Earbuds: {'Smartphones': 65, 'Laptops': 15, 'Wireless Earbuds': 75}\n",
      "After removing Wireless Earbuds: {'Smartphones': 65, 'Laptops': 15}\n",
      "--------------------------------------\n",
      "--- Our Complete Stock List ---\n",
      "Here's everything currently in your Tech Shop:\n",
      "- Smartphones: 65 in stock\n",
      "- Laptops: 15 in stock\n",
      "--------------------------------------\n"
     ]
    }
   ],
   "source": [
    "# Create an inventory system tracking items and quantities with a dictionary\n",
    "tech_inventory = {}\n",
    "print(\"--- Setting Up Our Tech Shop ---\")\n",
    "print(f\"Right now, our shelves are empty: {tech_inventory}\")\n",
    "print(\"--------------------------------------\")\n",
    "\n",
    "# 2. Time to add some cool electronic items to our shop!\n",
    "print(\"--- Adding New Gadgets! ---\")\n",
    "tech_inventory[\"Smartphones\"] = 50\n",
    "tech_inventory[\"Laptops\"] = 20\n",
    "tech_inventory[\"Wireless Earbuds\"] = 75\n",
    "print(f\"After putting items on the shelves: {tech_inventory}\")\n",
    "print(\"--------------------------------------\")\n",
    "\n",
    "# 3. I Want to know how many of a specific item  have?\n",
    "print(\"--- Checking How Many I Have ---\")\n",
    "print(f\"How many Smartphones are in stock? {tech_inventory['Smartphones']}\")\n",
    "\n",
    "# What if someone asks for something we don't sell?\n",
    "# We can use '.get()' to check safely. If it's not there, it will say 'None in stock!'.\n",
    "print(f\"Do we have any Smartwatches? {tech_inventory.get('Smartwatches', 'None in stock!')}\")\n",
    "print(\"--------------------------------------\")\n",
    "\n",
    "# 4. Our stock changes!\n",
    "print(\"--- Updating Our Stock ---\")\n",
    "# We add 15 more.\n",
    "tech_inventory[\"Smartphones\"] += 15 # This is a quick way to add to the current number\n",
    "print(f\"After a new delivery of Smartphones: {tech_inventory}\")\n",
    "\n",
    "# A customer bought some Laptops! We subtract 5.\n",
    "tech_inventory[\"Laptops\"] -= 5\n",
    "print(f\"After selling some Laptops: {tech_inventory}\")\n",
    "print(\"--------------------------------------\")\n",
    "\n",
    "# 5. Sometimes, we stop selling an item.\n",
    "print(\"--- Removing Items From Stock ---\")\n",
    "print(f\"Before removing Wireless Earbuds: {tech_inventory}\")\n",
    "del tech_inventory[\"Wireless Earbuds\"] # This 'del' command removes the item completely\n",
    "\n",
    "print(f\"After removing Wireless Earbuds: {tech_inventory}\")\n",
    "print(\"--------------------------------------\")\n",
    "\n",
    "# 6. Let's see everything we have in our inventory right now!\n",
    "print(\"--- Our Complete Stock List ---\")\n",
    "print(\"Here's everything currently in your Tech Shop:\")\n",
    "if not tech_inventory: # This checks if the inventory is empty\n",
    "    print(\"The shelves are completely empty.\")\n",
    "else:\n",
    "    # We go through each item one by one and print its name and quantity.\n",
    "    for item_name, quantity_in_stock in tech_inventory.items():\n",
    "        print(f\"- {item_name}: {quantity_in_stock} in stock\")\n",
    "print(\"--------------------------------------\")\n",
    "\n",
    "# This is the basic idea of managing inventory with a dictionary.\n",
    "# Keep practicing, Keep going on.\n"
   ]
  }
 ],
 "metadata": {
  "kernelspec": {
   "display_name": "Python 3",
   "language": "python",
   "name": "python3"
  },
  "language_info": {
   "codemirror_mode": {
    "name": "ipython",
    "version": 3
   },
   "file_extension": ".py",
   "mimetype": "text/x-python",
   "name": "python",
   "nbconvert_exporter": "python",
   "pygments_lexer": "ipython3",
   "version": "3.13.3"
  }
 },
 "nbformat": 4,
 "nbformat_minor": 5
}
