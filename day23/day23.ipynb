{
 "cells": [
  {
   "cell_type": "markdown",
   "id": "26467ea1",
   "metadata": {},
   "source": [
    "# ***Day 23: Building GUIs with Kivy***\n",
    "\n",
    "🗒️ Topics\n",
    "- Creating basic GUI elements\n",
    "- Event handling and widget interactions\n",
    "\n",
    "🎯 Challenge\n",
    "- Convert the temperature converter CLI tool into a GUI tool"
   ]
  },
  {
   "cell_type": "code",
   "execution_count": 4,
   "id": "3ebf9d5e",
   "metadata": {},
   "outputs": [
    {
     "name": "stdout",
     "output_type": "stream",
     "text": [
      "Defaulting to user installation because normal site-packages is not writeable\n",
      "Requirement already satisfied: kivy in c:\\users\\offic\\appdata\\roaming\\python\\python313\\site-packages (2.3.1)\n",
      "Requirement already satisfied: Kivy-Garden>=0.1.4 in c:\\users\\offic\\appdata\\roaming\\python\\python313\\site-packages (from kivy) (0.1.5)\n",
      "Requirement already satisfied: docutils in c:\\users\\offic\\appdata\\roaming\\python\\python313\\site-packages (from kivy) (0.21.2)\n",
      "Requirement already satisfied: pygments in c:\\users\\offic\\appdata\\roaming\\python\\python313\\site-packages (from kivy) (2.19.1)\n",
      "Requirement already satisfied: requests in c:\\users\\offic\\appdata\\roaming\\python\\python313\\site-packages (from kivy) (2.32.3)\n",
      "Requirement already satisfied: filetype in c:\\users\\offic\\appdata\\roaming\\python\\python313\\site-packages (from kivy) (1.2.0)\n",
      "Requirement already satisfied: kivy-deps.angle~=0.4.0 in c:\\users\\offic\\appdata\\roaming\\python\\python313\\site-packages (from kivy) (0.4.0)\n",
      "Requirement already satisfied: kivy-deps.sdl2~=0.8.0 in c:\\users\\offic\\appdata\\roaming\\python\\python313\\site-packages (from kivy) (0.8.0)\n",
      "Requirement already satisfied: kivy-deps.glew~=0.3.1 in c:\\users\\offic\\appdata\\roaming\\python\\python313\\site-packages (from kivy) (0.3.1)\n",
      "Requirement already satisfied: pypiwin32 in c:\\users\\offic\\appdata\\roaming\\python\\python313\\site-packages (from kivy) (223)\n",
      "Requirement already satisfied: pywin32>=223 in c:\\users\\offic\\appdata\\roaming\\python\\python313\\site-packages (from pypiwin32->kivy) (310)\n",
      "Requirement already satisfied: charset-normalizer<4,>=2 in c:\\users\\offic\\appdata\\roaming\\python\\python313\\site-packages (from requests->kivy) (3.4.1)\n",
      "Requirement already satisfied: idna<4,>=2.5 in c:\\users\\offic\\appdata\\roaming\\python\\python313\\site-packages (from requests->kivy) (3.10)\n",
      "Requirement already satisfied: urllib3<3,>=1.21.1 in c:\\users\\offic\\appdata\\roaming\\python\\python313\\site-packages (from requests->kivy) (2.4.0)\n",
      "Requirement already satisfied: certifi>=2017.4.17 in c:\\users\\offic\\appdata\\roaming\\python\\python313\\site-packages (from requests->kivy) (2025.4.26)\n",
      "Note: you may need to restart the kernel to use updated packages.\n"
     ]
    },
    {
     "name": "stderr",
     "output_type": "stream",
     "text": [
      " \n",
      " [notice] A new release of pip is available: 25.0.1 -> 25.1.1\n",
      " [notice] To update, run: python.exe -m pip install --upgrade pip\n"
     ]
    }
   ],
   "source": [
    "%pip install kivy\n",
    "\n",
    "from kivy.app import App\n",
    "from kivy.uix.button import Button\n",
    "\n",
    "class PythonChallengeApp(App):\n",
    "    def build(self):\n",
    "        return Button(text=\"Share your 30 Days of Python experience!\")\n",
    "\n",
    "# Note: Running Kivy apps is not supported in Jupyter Notebooks.\n",
    "# To run this app, save the code to a .py file and run it from a terminal.\n",
    "# if __name__ == '__main__':\n",
    "#     PythonChallengeApp().run()"
   ]
  },
  {
   "cell_type": "markdown",
   "id": "571e2301",
   "metadata": {},
   "source": [
    "# CHALLENGE : Convert the temperature converter CLI tool into a GUI tool"
   ]
  },
  {
   "cell_type": "code",
   "execution_count": 1,
   "id": "e182b5f8",
   "metadata": {},
   "outputs": [
    {
     "name": "stderr",
     "output_type": "stream",
     "text": [
      "[INFO   ] [Logger      ] Record log in C:\\Users\\offic\\.kivy\\logs\\kivy_25-06-20_1.txt\n",
      "[ERROR  ] [Core        ] option --f not a unique prefix\n"
     ]
    },
    {
     "name": "stdout",
     "output_type": "stream",
     "text": [
      "Kivy Usage: ipykernel_launcher.py [KIVY OPTION...] [-- PROGRAM OPTIONS]::\n",
      "\n",
      "    Options placed after a '-- ' separator, will not be touched by kivy,\n",
      "    and instead passed to your program.\n",
      "\n",
      "    Set KIVY_NO_ARGS=1 in your environment or before you import Kivy to\n",
      "    disable Kivy's argument parser.\n",
      "\n",
      "-h, --help\n",
      "    Prints this help message.\n",
      "-d, --debug\n",
      "    Shows debug log.\n",
      "-a, --auto-fullscreen\n",
      "    Force 'auto' fullscreen mode (no resolution change).\n",
      "    Uses your display's resolution. This is most likely what you want.\n",
      "-c, --config section:key[:value]\n",
      "    Set a custom [section] key=value in the configuration object.\n",
      "-f, --fullscreen\n",
      "    Force running in fullscreen mode.\n",
      "-k, --fake-fullscreen\n",
      "    Force 'fake' fullscreen mode (no window border/decoration).\n",
      "    Uses the resolution specified by width and height in your config.\n",
      "-w, --windowed\n",
      "    Force running in a window.\n",
      "-p, --provider id:provider[,options]\n",
      "    Add an input provider (eg: ccvtable1:tuio,192.168.0.1:3333).\n",
      "-m mod, --module=mod\n",
      "    Activate a module (use \"list\" to get a list of available modules).\n",
      "-r, --rotation\n",
      "    Rotate the window's contents (0, 90, 180, 270).\n",
      "-s, --save\n",
      "    Save current Kivy configuration.\n",
      "--size=640x480\n",
      "    Size of window geometry.\n",
      "--dpi=96\n",
      "    Manually overload the Window DPI (for testing only.)\n",
      "\n"
     ]
    },
    {
     "ename": "SystemExit",
     "evalue": "2",
     "output_type": "error",
     "traceback": [
      "An exception has occurred, use %tb to see the full traceback.\n",
      "\u001b[31mSystemExit\u001b[39m\u001b[31m:\u001b[39m 2\n"
     ]
    },
    {
     "name": "stderr",
     "output_type": "stream",
     "text": [
      " C:\\Users\\offic\\AppData\\Roaming\\Python\\Python313\\site-packages\\IPython\\core\\interactiveshell.py:3678: UserWarning: To exit: use 'exit', 'quit', or Ctrl-D.\n",
      "   warn(\"To exit: use 'exit', 'quit', or Ctrl-D.\", stacklevel=1)\n"
     ]
    }
   ],
   "source": [
    "from kivy.app import App\n",
    "from kivy.uix.boxlayout import BoxLayout\n",
    "from kivy.uix.label import Label\n",
    "from kivy.uix.textinput import TextInput\n",
    "from kivy.uix.button import Button\n",
    "\n",
    "class TempConverterApp(App):\n",
    "    def build(self):\n",
    "        layout = BoxLayout(orientation='vertical', padding=10, spacing=10)\n",
    "\n",
    "        # Input field\n",
    "        self.input = TextInput(hint_text='Enter Celsius', multiline=False)\n",
    "\n",
    "        # Button\n",
    "        convert_button = Button(text='Convert to Fahrenheit')\n",
    "        convert_button.bind(on_press=self.convert_temp)\n",
    "\n",
    "        # Result label\n",
    "        self.result_label = Label(text='')\n",
    "\n",
    "        # Add widgets to layout\n",
    "        layout.add_widget(self.input)\n",
    "        layout.add_widget(convert_button)\n",
    "        layout.add_widget(self.result_label)\n",
    "\n",
    "        return layout\n",
    "\n",
    "    def convert_temp(self, instance):\n",
    "        try:\n",
    "            celsius = float(self.input.text)\n",
    "            fahrenheit = (celsius * 9/5) + 32\n",
    "            self.result_label.text = f'{fahrenheit:.2f} °F'\n",
    "        except:\n",
    "            self.result_label.text = 'Invalid input!'\n",
    "\n",
    "if __name__ == '__main__':\n",
    "    TempConverterApp().run()"
   ]
  }
 ],
 "metadata": {
  "kernelspec": {
   "display_name": "Python 3",
   "language": "python",
   "name": "python3"
  },
  "language_info": {
   "codemirror_mode": {
    "name": "ipython",
    "version": 3
   },
   "file_extension": ".py",
   "mimetype": "text/x-python",
   "name": "python",
   "nbconvert_exporter": "python",
   "pygments_lexer": "ipython3",
   "version": "3.13.3"
  }
 },
 "nbformat": 4,
 "nbformat_minor": 5
}
