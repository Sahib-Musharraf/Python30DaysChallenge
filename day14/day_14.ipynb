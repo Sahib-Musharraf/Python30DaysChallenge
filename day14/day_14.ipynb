{
 "cells": [
  {
   "cell_type": "markdown",
   "id": "50f9a10a",
   "metadata": {},
   "source": [
    "# Day 14 : Recursion"
   ]
  },
  {
   "cell_type": "markdown",
   "id": "2cba37b5",
   "metadata": {},
   "source": [
    "What is Recursion?\n",
    "\n",
    "Recursion is a programming technique where a function calls itself to solve a smaller piece of the problem, until it reaches a condition where it stops this is called the base case."
   ]
  },
  {
   "cell_type": "code",
   "execution_count": 2,
   "id": "6d2367ee",
   "metadata": {},
   "outputs": [
    {
     "name": "stdout",
     "output_type": "stream",
     "text": [
      "Chapter 5: Once upon a time... 📖\n",
      "Chapter 4: Once upon a time... 📖\n",
      "Chapter 3: Once upon a time... 📖\n",
      "Chapter 2: Once upon a time... 📖\n",
      "Chapter 1: Once upon a time... 📖\n",
      "The story ends. Goodnight! 🌙\n"
     ]
    }
   ],
   "source": [
    "def tell_story(chapter):\n",
    "    if chapter == 0:\n",
    "        print(\"The story ends. Goodnight! 🌙\")  # base case\n",
    "    else:\n",
    "        print(f\"Chapter {chapter}: Once upon a time... 📖\")\n",
    "        tell_story(chapter - 1)  # recursive call\n",
    "\n",
    "# Start telling the story from chapter 5\n",
    "tell_story(5)"
   ]
  },
  {
   "cell_type": "markdown",
   "id": "d2cd3b70",
   "metadata": {},
   "source": [
    "***🧩 Challenge: Count Files in a Folder (Recursively)***"
   ]
  },
  {
   "cell_type": "markdown",
   "id": "81bd9e64",
   "metadata": {},
   "source": [
    "Real-world scenario:\n",
    "\n",
    "You're building a file manager or a backup tool. You want to:\n",
    "\n",
    "Go into every folder\n",
    "\n",
    "Look for files\n",
    "\n",
    "If you find a folder, go into that folder and repeat\n",
    "\n",
    "Stop when there are no more subfolders"
   ]
  },
  {
   "cell_type": "code",
   "execution_count": 4,
   "id": "82cf977f",
   "metadata": {},
   "outputs": [
    {
     "name": "stdout",
     "output_type": "stream",
     "text": [
      "Total files: 1\n"
     ]
    }
   ],
   "source": [
    "#Python Code Example:\n",
    "\n",
    "import os  # Importing the 'os' module to interact with the operating system (like folders/files)\n",
    "\n",
    "def count_files(folder_path):\n",
    "    total = 0  # Start with 0 files found\n",
    "\n",
    "    for item in os.listdir(folder_path):  # Loop through everything in the given folder\n",
    "        full_path = os.path.join(folder_path, item)  # Create the full path of the item (file or folder)\n",
    "        \n",
    "        if os.path.isfile(full_path):  # If it's a file...\n",
    "            total += 1  # ...add 1 to the total count\n",
    "\n",
    "        elif os.path.isdir(full_path):  # If it's a folder...\n",
    "            # Recursively call count_files() on that subfolder and add the result to total\n",
    "            total += count_files(full_path)\n",
    "\n",
    "    return total  # Return the total number of files found in this folder (and subfolders)\n",
    "\n",
    "# Example usage:\n",
    "path = os.getcwd()  # Use the current working directory as a valid example path\n",
    "print(\"Total files:\", count_files(path))  # Call the function and print the result\n"
   ]
  },
  {
   "cell_type": "markdown",
   "id": "a18cca26",
   "metadata": {},
   "source": [
    "***Summary of How It Works:***\n",
    "\n",
    "It looks inside the folder.\n",
    "\n",
    "If it sees a file: it counts it.\n",
    "\n",
    "If it sees a folder: it goes inside that folder using recursion and keeps counting.\n",
    "\n",
    "When there are no more folders to go into, it returns and adds up all the counts."
   ]
  }
 ],
 "metadata": {
  "kernelspec": {
   "display_name": "Python 3",
   "language": "python",
   "name": "python3"
  },
  "language_info": {
   "codemirror_mode": {
    "name": "ipython",
    "version": 3
   },
   "file_extension": ".py",
   "mimetype": "text/x-python",
   "name": "python",
   "nbconvert_exporter": "python",
   "pygments_lexer": "ipython3",
   "version": "3.13.3"
  }
 },
 "nbformat": 4,
 "nbformat_minor": 5
}
