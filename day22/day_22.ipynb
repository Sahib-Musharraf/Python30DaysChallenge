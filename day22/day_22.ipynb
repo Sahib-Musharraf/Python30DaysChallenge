{
 "cells": [
  {
   "cell_type": "markdown",
   "id": "2b061492",
   "metadata": {},
   "source": [
    "# ***Day 22: Command-Line Application***\n",
    "\n",
    " Topics\n",
    "- argparse, CLI structure\n",
    "\n",
    "🎯 Challenge\n",
    "-  Build a temperature converter CLI tool"
   ]
  },
  {
   "cell_type": "code",
   "execution_count": null,
   "id": "5dc96d5f",
   "metadata": {},
   "outputs": [
    {
     "name": "stdout",
     "output_type": "stream",
     "text": [
      "56.0°C is equal to 132.8°F\n"
     ]
    }
   ],
   "source": [
    "import argparse\n",
    "import sys\n",
    "\n",
    "# Your Input\n",
    "user_input = input(\"Enter temperature in Celsius: \")\n",
    "\n",
    "# Simulate command-line arguments\n",
    "sys.argv = [\"temp_converter\", user_input]\n",
    "\n",
    "# Setup argparse\n",
    "parser = argparse.ArgumentParser(description=\"Convert Celsius to Fahrenheit\")\n",
    "parser.add_argument(\"celsius\", type=float, help=\"Temperature in Celsius\")\n",
    "args = parser.parse_args()\n",
    "\n",
    "# Conversion logic \n",
    "fahrenheit = (args.celsius * 9/5) + 32\n",
    "print(f\"{args.celsius}°C is equal to {round(fahrenheit, 2)}°F\")"
   ]
  }
 ],
 "metadata": {
  "kernelspec": {
   "display_name": "Python 3",
   "language": "python",
   "name": "python3"
  },
  "language_info": {
   "codemirror_mode": {
    "name": "ipython",
    "version": 3
   },
   "file_extension": ".py",
   "mimetype": "text/x-python",
   "name": "python",
   "nbconvert_exporter": "python",
   "pygments_lexer": "ipython3",
   "version": "3.13.3"
  }
 },
 "nbformat": 4,
 "nbformat_minor": 5
}
