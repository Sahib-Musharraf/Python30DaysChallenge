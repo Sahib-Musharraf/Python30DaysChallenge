{
 "cells": [
  {
   "cell_type": "markdown",
   "id": "ee852006",
   "metadata": {},
   "source": [
    "# ***Day 24 Dataclasses in Python***"
   ]
  },
  {
   "cell_type": "markdown",
   "id": "18de5040",
   "metadata": {},
   "source": [
    " Topics\n",
    "- defining dataclasses, default values, type hints etc\n",
    "\n",
    "🎯 Challenge\n",
    "\n",
    "Create a dataclass to represent a library book with fields for title, author, ISBN, and publication year, including a method to display book details"
   ]
  },
  {
   "cell_type": "code",
   "execution_count": 2,
   "id": "7647f4b6",
   "metadata": {},
   "outputs": [
    {
     "name": "stdout",
     "output_type": "stream",
     "text": [
      "Title: Exploring Bharat: A Journey Through India's Heart\n",
      "Author(s): Ananya Sharma; Ravi Deshmukh\n",
      "ISBN: 1234567890\n",
      "Publication Year: 2025\n"
     ]
    }
   ],
   "source": [
    "from dataclasses import dataclass\n",
    "\n",
    "@dataclass\n",
    "class LibraryBook:\n",
    "    title: str\n",
    "    author: str\n",
    "    isbn: str\n",
    "    publication_year: int\n",
    "\n",
    "    def display_details(self):\n",
    "        print(f\"Title: {self.title}\")\n",
    "        print(f\"Author(s): {self.author}\")\n",
    "        print(f\"ISBN: {self.isbn}\")\n",
    "        print(f\"Publication Year: {self.publication_year}\")\n",
    "\n",
    "# Creating a LibraryBook object for an Indian book\n",
    "book = LibraryBook(\n",
    "    title=\"Exploring Bharat: A Journey Through India's Heart\",\n",
    "    author=\"Ananya Sharma; Ravi Deshmukh\",\n",
    "    isbn=\"1234567890\",\n",
    "    publication_year=2025\n",
    ")\n",
    "\n",
    "book.display_details()\n"
   ]
  }
 ],
 "metadata": {
  "kernelspec": {
   "display_name": "Python 3",
   "language": "python",
   "name": "python3"
  },
  "language_info": {
   "codemirror_mode": {
    "name": "ipython",
    "version": 3
   },
   "file_extension": ".py",
   "mimetype": "text/x-python",
   "name": "python",
   "nbconvert_exporter": "python",
   "pygments_lexer": "ipython3",
   "version": "3.13.3"
  }
 },
 "nbformat": 4,
 "nbformat_minor": 5
}
