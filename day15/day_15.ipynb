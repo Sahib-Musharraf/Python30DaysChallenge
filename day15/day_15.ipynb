{
 "cells": [
  {
   "cell_type": "markdown",
   "id": "3d4e5afb",
   "metadata": {},
   "source": [
    "# ***Day 15: Python Decorators***"
   ]
  },
  {
   "cell_type": "markdown",
   "id": "8bc44b6a",
   "metadata": {},
   "source": [
    "In Python, decorators are a way to modify or enhance functions or methods without changing their code."
   ]
  },
  {
   "cell_type": "markdown",
   "id": "2592cfc3",
   "metadata": {},
   "source": [
    "A decorator is a function that takes another function as an argument, adds some functionality to it, and then returns a new function."
   ]
  },
  {
   "cell_type": "code",
   "execution_count": 3,
   "id": "b0fe33de",
   "metadata": {},
   "outputs": [
    {
     "name": "stdout",
     "output_type": "stream",
     "text": [
      "Before the function\n",
      "Hello!\n",
      "After the function\n"
     ]
    }
   ],
   "source": [
    "def my_decorator(func):  # <-- func is the argument here!\n",
    "    def wrapper():\n",
    "        print(\"Before the function\")\n",
    "        func()  # calling the function passed in\n",
    "        print(\"After the function\")\n",
    "    return wrapper\n",
    "\n",
    "@my_decorator\n",
    "def say_hello():\n",
    "    print(\"Hello!\")\n",
    "\n",
    "say_hello()\n"
   ]
  },
  {
   "cell_type": "markdown",
   "id": "ffc68c50",
   "metadata": {},
   "source": [
    "***Challenge:Create a decorator to log function execution time***"
   ]
  },
  {
   "cell_type": "code",
   "execution_count": 5,
   "id": "04942ce2",
   "metadata": {},
   "outputs": [
    {
     "name": "stdout",
     "output_type": "stream",
     "text": [
      "Operation on Integers: took 1.50 seconds, result=(7, -5)\n",
      "Operation on Integers: took 1.50 seconds, result=(9, -5)\n",
      "Operation on Integers: took 1.50 seconds, result=(11, -5)\n",
      "Operation on Integers: took 1.50 seconds, result=(13, -5)\n",
      "Operation on Integers: took 1.50 seconds, result=(15, -5)\n",
      "Operation on Integers: took 1.50 seconds, result=(17, -5)\n",
      "Operation on Integers: took 1.50 seconds, result=(19, -5)\n",
      "Operation on Integers: took 1.50 seconds, result=(21, -5)\n",
      "Operation on Integers: took 1.50 seconds, result=(23, -5)\n",
      "Timing Summary:\n",
      "Operation on Integers: 1.50 seconds, result=(7, -5)\n",
      "Operation on Integers: 1.50 seconds, result=(9, -5)\n",
      "Operation on Integers: 1.50 seconds, result=(11, -5)\n",
      "Operation on Integers: 1.50 seconds, result=(13, -5)\n",
      "Operation on Integers: 1.50 seconds, result=(15, -5)\n",
      "Operation on Integers: 1.50 seconds, result=(17, -5)\n",
      "Operation on Integers: 1.50 seconds, result=(19, -5)\n",
      "Operation on Integers: 1.50 seconds, result=(21, -5)\n",
      "Operation on Integers: 1.50 seconds, result=(23, -5)\n"
     ]
    }
   ],
   "source": [
    "import time\n",
    "\n",
    "class TimeLogger:\n",
    "    def __init__(self):\n",
    "        self.logs = []\n",
    "\n",
    "    def timed(self, func, *args, description='', verbose=False, **kwargs):\n",
    "        start = time.time()\n",
    "        result = func(*args, **kwargs)\n",
    "        end = time.time()\n",
    "        elapsed = end - start\n",
    "        log_entry = {\n",
    "            'description': description,\n",
    "            'elapsed': elapsed,\n",
    "            'result': result\n",
    "        }\n",
    "        self.logs.append(log_entry)\n",
    "        if verbose:\n",
    "            print(f\"{description}: took {elapsed:.2f} seconds, result={result}\")\n",
    "        return result\n",
    "\n",
    "    def summary(self):\n",
    "        print(\"Timing Summary:\")\n",
    "        for log in self.logs:\n",
    "            print(f\"{log['description']}: {log['elapsed']:.2f} seconds, result={log['result']}\")\n",
    "\n",
    "def func(a, b):\n",
    "    time.sleep(1.5)\n",
    "    return a + b, a - b\n",
    "\n",
    "t_log = TimeLogger()\n",
    "\n",
    "for i in range(1, 10):\n",
    "    res = t_log.timed(func, i, i + 5, description='Operation on Integers', verbose=True)\n",
    "    # print(res)\n",
    "\n",
    "t_log.summary()"
   ]
  }
 ],
 "metadata": {
  "kernelspec": {
   "display_name": "Python 3",
   "language": "python",
   "name": "python3"
  },
  "language_info": {
   "codemirror_mode": {
    "name": "ipython",
    "version": 3
   },
   "file_extension": ".py",
   "mimetype": "text/x-python",
   "name": "python",
   "nbconvert_exporter": "python",
   "pygments_lexer": "ipython3",
   "version": "3.13.3"
  }
 },
 "nbformat": 4,
 "nbformat_minor": 5
}
