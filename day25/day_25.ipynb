{
 "cells": [
  {
   "cell_type": "markdown",
   "id": "4bcce417",
   "metadata": {},
   "source": [
    "# ***Day 2️⃣5️⃣: Pydantic***"
   ]
  },
  {
   "cell_type": "markdown",
   "id": "74963441",
   "metadata": {},
   "source": [
    "🗒️ Topics\n",
    "- Defining models with pydantic, nested models, why it’s needed\n",
    "\n",
    "What is Pydantic?\n",
    "Pydantic is a Python library that uses type hints to validate data and serialize/deserialize objects. It's built on top of Python's type system and provides runtime validation, making your code more robust and self-documentin"
   ]
  },
  {
   "cell_type": "markdown",
   "id": "1dbcde18",
   "metadata": {},
   "source": []
  },
  {
   "cell_type": "markdown",
   "id": "0cfec00b",
   "metadata": {},
   "source": [
    "I am still explaoring and will take time to complate today's challenge."
   ]
  }
 ],
 "metadata": {
  "language_info": {
   "name": "python"
  }
 },
 "nbformat": 4,
 "nbformat_minor": 5
}
