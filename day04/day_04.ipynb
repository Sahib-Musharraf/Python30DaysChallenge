{
 "cells": [
  {
   "cell_type": "markdown",
   "id": "7923ede1",
   "metadata": {},
   "source": [
    "🐍 ***Python Control Flow Explained***"
   ]
  },
  {
   "cell_type": "code",
   "execution_count": null,
   "id": "8d18a7f9",
   "metadata": {},
   "outputs": [
    {
     "name": "stdout",
     "output_type": "stream",
     "text": [
      "a is greater than b False\n"
     ]
    }
   ],
   "source": [
    "#Practice for if statement#\n",
    "\n",
    "a =20\n",
    "b = 30\n",
    "\n",
    "z=a>b\n",
    "print(\"a is greater than b\",z)"
   ]
  },
  {
   "cell_type": "markdown",
   "id": "e8af001c",
   "metadata": {},
   "source": [
    "When you're coding, you’re basically telling the computer what to do, step by step just like giving instructions to your little cousin who never listens unless you say it clearly. "
   ]
  },
  {
   "cell_type": "markdown",
   "id": "be621cdb",
   "metadata": {},
   "source": [
    "***1️⃣if-else - Decision Making***\n",
    "\n",
    "if-else is how your program makes choices. Like, “If this happens, do that. Otherwise, do something else.”\n",
    "\n",
    "Analogy:\n",
    "Imagine your sister asking you:\n",
    "\n",
    "“If you're hungry, eat. Else, go study!”"
   ]
  },
  {
   "cell_type": "code",
   "execution_count": 16,
   "id": "10c928f1",
   "metadata": {},
   "outputs": [
    {
     "name": "stdout",
     "output_type": "stream",
     "text": [
      "Eat Biryani\n"
     ]
    }
   ],
   "source": [
    "hungery = True\n",
    "if hungery:\n",
    "    print(\"Eat Biryani\")\n",
    "else:\n",
    "    print(\"Go for a study\")   "
   ]
  },
  {
   "cell_type": "markdown",
   "id": "97f6125a",
   "metadata": {},
   "source": [
    "***2️⃣ for Loop – Repeat Something n Times***"
   ]
  },
  {
   "cell_type": "markdown",
   "id": "b3d99c1a",
   "metadata": {},
   "source": [
    "A for loop is used for iterating over a sequence (that is either a list, a tuple, a dictionary, a set, or a string)."
   ]
  },
  {
   "cell_type": "markdown",
   "id": "c2b70ee7",
   "metadata": {},
   "source": [
    "🚗 Analogy:\n",
    "You and your friends — Vishal, Ashish, and Sid-are going to a wedding. You greet each one:\n",
    "\n",
    "“For every friend, say Namaste.\""
   ]
  },
  {
   "cell_type": "code",
   "execution_count": null,
   "id": "dff388dc",
   "metadata": {},
   "outputs": [
    {
     "name": "stdout",
     "output_type": "stream",
     "text": [
      "Namaste, Aman\n",
      "Namaste, Priya\n",
      "Namaste, Rahul\n"
     ]
    }
   ],
   "source": [
    "friends = [\"Vishal\", \"Ashish\", \"Sid\"]\n",
    "\n",
    "for friend in friends:\n",
    "    print(\"Namaste,\", friend)\n"
   ]
  },
  {
   "cell_type": "markdown",
   "id": "96acfb15",
   "metadata": {},
   "source": [
    "***3️⃣ while Loop – Repeat Until Condition Breaks***\n",
    "The while loop in Python is a control flow statement that repeatedly executes a block of code as long as a specified condition remains true. \n",
    "\n",
    "It's particularly useful when the number of iterations is not known beforehand.\n",
    "\n",
    "That means, A while loop keeps repeating as long as a condition is true."
   ]
  },
  {
   "cell_type": "markdown",
   "id": "92c950e4",
   "metadata": {},
   "source": [
    "Analogy:\n",
    "Your alarm rings while you're sleeping:\n",
    "\n",
    "“While Subhash is sleeping, keep ringing alarm”"
   ]
  },
  {
   "cell_type": "code",
   "execution_count": 12,
   "id": "29341f26",
   "metadata": {},
   "outputs": [
    {
     "name": "stdout",
     "output_type": "stream",
     "text": [
      "Alarm: Utho Subhash!\n",
      "Alarm: Utho Subhash!\n",
      "Alarm: Utho Subhash!\n",
      "Subhash: Let's go for a tea... \n"
     ]
    }
   ],
   "source": [
    "asleep = True\n",
    "count = 0\n",
    "\n",
    "while asleep and count < 3:\n",
    "    print(\"Alarm: Utho Subhash!\")\n",
    "    count += 1\n",
    "    if count == 3:\n",
    "        asleep = False\n",
    "\n",
    "print(\"Subhash: Let's go for a tea... \")"
   ]
  },
  {
   "cell_type": "markdown",
   "id": "ffac9736",
   "metadata": {},
   "source": [
    "**4️⃣ break – Emergency Exit**\n",
    "\n",
    "The break statement in Python is a control flow tool that terminates the loop it is enclosed in.\n",
    "\n",
    "Analogy:\n",
    "Your sister asks you to clean until you find the TV remote:\n",
    "\n",
    "“Break when you find the remote.”"
   ]
  },
  {
   "cell_type": "code",
   "execution_count": 18,
   "id": "1096c17b",
   "metadata": {},
   "outputs": [
    {
     "name": "stdout",
     "output_type": "stream",
     "text": [
      "Still looking under the cushion\n",
      "Still looking under the magazine\n",
      "Found the remote! Time for Hotstar \n"
     ]
    }
   ],
   "source": [
    "things = [\"cushion\", \"magazine\", \"remote\", \"dupatta\"]\n",
    "\n",
    "for item in things:\n",
    "    if item == \"remote\":\n",
    "        print(\"Found the remote! Time for Hotstar \")\n",
    "        break\n",
    "    print(\"Still looking under the\", item)\n"
   ]
  },
  {
   "cell_type": "markdown",
   "id": "2d0dd4c0",
   "metadata": {},
   "source": [
    "Control flow is what makes your code smart. It helps Python:\n",
    "\n",
    "Make decisions (if-else)\n",
    "\n",
    "Repeat tasks (for, while)\n",
    "\n",
    "Exit loops early (break)\n",
    "\n",
    "Skip certain items (continue)"
   ]
  },
  {
   "cell_type": "markdown",
   "id": "eb07d227",
   "metadata": {},
   "source": [
    "***Todays challenge***"
   ]
  },
  {
   "cell_type": "markdown",
   "id": "605e484d",
   "metadata": {},
   "source": [
    "🎯 Challenge\n",
    "- Check if a user-entered number is prime"
   ]
  },
  {
   "cell_type": "markdown",
   "id": "6e3c999a",
   "metadata": {},
   "source": [
    "Here is the solution"
   ]
  },
  {
   "cell_type": "code",
   "execution_count": 14,
   "id": "e01767bb",
   "metadata": {},
   "outputs": [
    {
     "name": "stdout",
     "output_type": "stream",
     "text": [
      "7 is a prime number\n"
     ]
    }
   ],
   "source": [
    "number = int(input(\"Enter the number:\")) #number = 4\n",
    "\n",
    "count = 0 #3\n",
    "\n",
    "if number <= 1:\n",
    "    print(f\"{number} is neither prime nor composite\")\n",
    "else:\n",
    "    for i in range (1, number+1): #1, 2, 3, 4\n",
    "        if number % i == 0:\n",
    "            count+=1\n",
    "    if count > 2:\n",
    "        print(f\"{number} is a composite number\")\n",
    "    else:\n",
    "        print(f\"{number} is a prime number\")"
   ]
  },
  {
   "cell_type": "markdown",
   "id": "9cdf68c0",
   "metadata": {},
   "source": []
  }
 ],
 "metadata": {
  "kernelspec": {
   "display_name": "Python 3",
   "language": "python",
   "name": "python3"
  },
  "language_info": {
   "codemirror_mode": {
    "name": "ipython",
    "version": 3
   },
   "file_extension": ".py",
   "mimetype": "text/x-python",
   "name": "python",
   "nbconvert_exporter": "python",
   "pygments_lexer": "ipython3",
   "version": "3.13.3"
  }
 },
 "nbformat": 4,
 "nbformat_minor": 5
}
