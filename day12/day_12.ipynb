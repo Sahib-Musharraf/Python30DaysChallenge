{
 "cells": [
  {
   "cell_type": "markdown",
   "id": "5880f32c",
   "metadata": {},
   "source": [
    "# Day 12 Regular Expressions"
   ]
  },
  {
   "cell_type": "markdown",
   "id": "59ae8ea1",
   "metadata": {},
   "source": [
    "Topics\n",
    "-  re module, pattern matching"
   ]
  },
  {
   "cell_type": "code",
   "execution_count": 3,
   "id": "cdcded60",
   "metadata": {},
   "outputs": [
    {
     "name": "stdout",
     "output_type": "stream",
     "text": [
      "The text:\n",
      "\n",
      " Hi there, this is User 1. You can reach me anytime at user1@gmail.com.\n",
      "    I often collaborate with User 2, who uses user2@gmail.com for work.\n",
      "    Another colleague, User 3, prefers using user3@customdomain.com for communications.\n",
      "\n",
      "The email addresses from the above text:\n",
      "\n",
      "['user1@gmail.com', 'user2@gmail.com', 'user3@customdomain.com'] \n",
      "\n",
      "The email address 'user1@gmail.com': Valid\n",
      "The email address 'user2@gmail.com': Valid\n",
      "The email address 'user3@customdomain.com': Invalid\n"
     ]
    }
   ],
   "source": [
    "import re\n",
    "\n",
    "# Function to extract all email addresses from a given text\n",
    "def email_extract(email):\n",
    "    # General email pattern: matches most standard email formats\n",
    "    pattern = r\"[a-zA-Z0-9._%+-]+@[a-zA-Z0-9.-]+\\.[a-zA-Z]{2,}\"\n",
    "    \n",
    "    # Find all matches in the input string\n",
    "    result = re.findall(pattern, email)\n",
    "\n",
    "    return result\n",
    "\n",
    "# Function to validate if an email is specifically a Gmail address\n",
    "def validate_email(email):\n",
    "    # Pattern restricted to gmail only\n",
    "    pattern = r\"[a-zA-Z0-9._%+-]+@gmail\\.com\"\n",
    "    \n",
    "    # Use re.match to validate if the email matches the pattern\n",
    "    if re.match(pattern, email):\n",
    "        return \"Valid\"\n",
    "    else:\n",
    "        return \"Invalid\"\n",
    "\n",
    "# Multiline text containing multiple email addresses\n",
    "text = '''Hi there, this is User 1. You can reach me anytime at user1@gmail.com.\n",
    "    I often collaborate with User 2, who uses user2@gmail.com for work.\n",
    "    Another colleague, User 3, prefers using user3@customdomain.com for communications.'''\n",
    "\n",
    "# Display the original text\n",
    "print(\"The text:\\n\\n\", text)\n",
    "\n",
    "# Extract all email addresses from the given text\n",
    "email_container = email_extract(text)\n",
    "\n",
    "# Display the extracted email addresses\n",
    "print(\"\\nThe email addresses from the above text:\\n\")\n",
    "print(email_container, \"\\n\")\n",
    "\n",
    "# Loop through each extracted email address and check if it's a valid Gmail address\n",
    "for gmail_addresses in email_container:\n",
    "    print(f\"The email address '{gmail_addresses}': {validate_email(gmail_addresses)}\")\n"
   ]
  }
 ],
 "metadata": {
  "kernelspec": {
   "display_name": "Python 3",
   "language": "python",
   "name": "python3"
  },
  "language_info": {
   "codemirror_mode": {
    "name": "ipython",
    "version": 3
   },
   "file_extension": ".py",
   "mimetype": "text/x-python",
   "name": "python",
   "nbconvert_exporter": "python",
   "pygments_lexer": "ipython3",
   "version": "3.13.3"
  }
 },
 "nbformat": 4,
 "nbformat_minor": 5
}
