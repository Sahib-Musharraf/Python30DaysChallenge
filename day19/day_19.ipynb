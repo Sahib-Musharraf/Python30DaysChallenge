{
 "cells": [
  {
   "cell_type": "markdown",
   "id": "f5ae7df4",
   "metadata": {},
   "source": [
    "# Day_19: Multithreading and Multiprocessing\n",
    "\n",
    "Topics\n",
    "-   threading, multiprocessing, concurrency\n",
    "\n",
    "🎯 Challenge\n",
    "\n",
    "Download multiple files concurrently using threads"
   ]
  },
  {
   "cell_type": "code",
   "execution_count": 2,
   "id": "6356c462",
   "metadata": {},
   "outputs": [
    {
     "name": "stdout",
     "output_type": "stream",
     "text": [
      "Starting download: photo-1506744038136-46273834b3fb\n",
      "Starting download: photo-1494526585095-c41746248156\n",
      "Download completed: photo-1494526585095-c41746248156\n",
      "Download completed: photo-1506744038136-46273834b3fb\n",
      "All downloads completed.\n"
     ]
    }
   ],
   "source": [
    "import threading\n",
    "import requests\n",
    "import os\n",
    "\n",
    "# List of file URLs to download\n",
    "file_urls = [\n",
    "    \"https://images.unsplash.com/photo-1506744038136-46273834b3fb\",\n",
    "    \"https://images.unsplash.com/photo-1494526585095-c41746248156\",\n",
    "]\n",
    "\n",
    "download_folder = r\"C:\\sahib\\New\"\n",
    "os.makedirs(download_folder, exist_ok=True)\n",
    "\n",
    "# Function to download and save a file\n",
    "def download_file(url):\n",
    "    try:\n",
    "        file_name = url.split(\"/\")[-1]  # Get the file name from URL\n",
    "        file_path = os.path.join(download_folder, file_name)  # Full path\n",
    "\n",
    "        print(f\"Starting download: {file_name}\")\n",
    "        response = requests.get(url)\n",
    "\n",
    "        # Save the file\n",
    "        with open(file_path, \"wb\") as file:\n",
    "            file.write(response.content)\n",
    "            \n",
    "        print(f\"Download completed: {file_name}\")\n",
    "    except Exception as e:\n",
    "        print(f\"Failed to download {url} - {e}\")\n",
    "\n",
    "# Create and start threads\n",
    "threads = []\n",
    "for url in file_urls:\n",
    "    t = threading.Thread(target=download_file, args=(url,))\n",
    "    threads.append(t)\n",
    "    t.start()\n",
    "\n",
    "# Wait for all threads to complete\n",
    "for t in threads:\n",
    "    t.join()\n",
    "\n",
    "print(\"All downloads completed.\")"
   ]
  }
 ],
 "metadata": {
  "kernelspec": {
   "display_name": "Python 3",
   "language": "python",
   "name": "python3"
  },
  "language_info": {
   "codemirror_mode": {
    "name": "ipython",
    "version": 3
   },
   "file_extension": ".py",
   "mimetype": "text/x-python",
   "name": "python",
   "nbconvert_exporter": "python",
   "pygments_lexer": "ipython3",
   "version": "3.13.3"
  }
 },
 "nbformat": 4,
 "nbformat_minor": 5
}
