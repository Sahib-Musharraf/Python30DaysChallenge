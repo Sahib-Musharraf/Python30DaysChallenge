{
 "cells": [
  {
   "cell_type": "markdown",
   "id": "da744ac6",
   "metadata": {},
   "source": [
    "# Day-13: Data Structures\n",
    "\n",
    "Topics - Stacks, queues (implementation with lists)"
   ]
  },
  {
   "cell_type": "markdown",
   "id": "f2c77576",
   "metadata": {},
   "source": [
    "I need time to figure out the Data Structure just understood the basics concept and i will be implementing soon."
   ]
  },
  {
   "cell_type": "markdown",
   "id": "dfe1ea88",
   "metadata": {},
   "source": [
    "Challenge : Implement a stack with push, pop, and peek"
   ]
  }
 ],
 "metadata": {
  "language_info": {
   "name": "python"
  }
 },
 "nbformat": 4,
 "nbformat_minor": 5
}
