{
 "cells": [
  {
   "cell_type": "markdown",
   "id": "faf38cc0",
   "metadata": {},
   "source": [
    "# Day 21: Web Scrapping\n",
    "\n",
    "opics\n",
    "- Sockets, HTTP requests\n",
    "\n",
    "🎯 Challenge\n",
    "\n",
    "Scrape headlines from a news site"
   ]
  },
  {
   "cell_type": "code",
   "execution_count": null,
   "id": "57bb4f07",
   "metadata": {},
   "outputs": [
    {
     "name": "stdout",
     "output_type": "stream",
     "text": [
      "Defaulting to user installation because normal site-packages is not writeable\n",
      "Requirement already satisfied: bs4 in c:\\users\\offic\\appdata\\roaming\\python\\python313\\site-packages (0.0.2)\n",
      "Requirement already satisfied: beautifulsoup4 in c:\\users\\offic\\appdata\\roaming\\python\\python313\\site-packages (from bs4) (4.13.4)\n",
      "Requirement already satisfied: soupsieve>1.2 in c:\\users\\offic\\appdata\\roaming\\python\\python313\\site-packages (from beautifulsoup4->bs4) (2.7)\n",
      "Requirement already satisfied: typing-extensions>=4.0.0 in c:\\users\\offic\\appdata\\roaming\\python\\python313\\site-packages (from beautifulsoup4->bs4) (4.13.2)\n",
      "Note: you may need to restart the kernel to use updated packages.\n"
     ]
    },
    {
     "name": "stderr",
     "output_type": "stream",
     "text": [
      "\n",
      "[notice] A new release of pip is available: 25.0.1 -> 25.1.1\n",
      "[notice] To update, run: python.exe -m pip install --upgrade pip\n"
     ]
    },
    {
     "name": "stdout",
     "output_type": "stream",
     "text": [
      "BBC News Headlines:\n",
      "\n",
      "1. PhotographyPalestinian child refugees pick up the camera\n",
      "2. Marina HydeIt’s The Donald Show … without Donald Trump\n",
      "3. South AfricaWhat next for HIV now the money has been cut?\n",
      "4. Environment25 easy and effective ways to help protect insects\n",
      "5. USA political battle could decide Trump’s Iran response\n",
      "6. Keep burglars outSix ways to protect your home when you’re away\n",
      "7. Middle East crisis\n",
      "8. Latest updatesTrump demands Iran’s ‘unconditional surrender’ and says US won’t kill supreme leader ‘for now’\n",
      "9. Full storyDonald Trump not seeking ceasefire but wants ‘complete give-up’ by Iran\n",
      "10. AnalysisNetanyahu speaks of regime change in Iran. But it’s not the same as regime destruction\n",
      "11. AnalysisCould US attack Iran’s Fordow nuclear site? Military movements offer a clue\n",
      "12. Visual guideThe Israel-Iran war in maps, videos and satellite images\n",
      "13. AnalysisTrump leaves Europe in the cold in the Rocky Mountains, and Iran with a stark choice\n",
      "14. GazaWitnesses describe ‘horror’ after Israeli forces fire at Palestinians waiting for aid trucks\n",
      "15. News\n",
      "16. UkraineRussian missile and drone attack on Kyiv kills at least 15 people\n",
      "17. Energy industryEurope will never return to Russian gas, European Commission insists\n",
      "18. Energy industryEurope will never return to Russian gas, European Commission insists\n",
      "19. G7Starmer says he picked up Trump’s dropped papers to avoid security scare\n",
      "20. G7Donald Trump repeats call for Russia to be readmitted at G7 summit in Canada\n",
      "21. Business‘Vital’ that British steel gets Trump tariff deal after UK-US trade pact, say unions\n",
      "22. US politics liveTrump says he won’t call Minnesota governor after political shootings: ‘he’s a mess’\n",
      "23. MinnesotaHow the right spread ‘brutal and cruel’ misinformation after Minnesota lawmaker killings\n",
      "24. US immigrationTrump orders Ice raids on farms and hotels after pausing them days earlier\n",
      "25. ItalyMan, 80, gets stuck trying to drive down the Spanish Steps in Rome\n",
      "26. EuropeSpanish minister rules out cyber-attack as cause of April blackout, after expert report\n",
      "27. BrazilNew charges accuse Bolsonaro of running spy ring from Brazil’s presidential palace\n",
      "28. USR Kelly rushed to hospital after overdosing in prison, lawyers say\n",
      "29. SwedenSwedish ‘queen of trash’ jailed for dumping thousands of tonnes of toxic waste\n",
      "30. DenmarkViking age burial site full of ancient objects found in Denmark, say experts\n",
      "31. In focus\n",
      "32. RaceGo viral for racist behavior, receive $750,000: inside the new extremist crowdfunding campaigns\n",
      "33. Trump administration‘I have never seen such open corruption’: Trump’s crypto deals and loosening of rules shock observers\n",
      "34. Global developmentSouth Africa is at the heart of the HIV pandemic. What happens now the money has been cut?\n",
      "35. Features\n",
      "36. Life and styleThese evangelical men saved sex for marriage – they weren’t well prepared\n",
      "37. FilmElio review – Pixar’s goofy, giddy guide to the galaxy offers charm and vulnerability\n",
      "38. More features\n",
      "39. FootballWorld’s oldest professional footballer on playing at 59: ‘I won’t put limits on myself’\n",
      "40. ArtMeet Miss Sassy, the cat who sparked Trump’s pet-eating ravings: Taryn Simon’s thrilling election photographs\n",
      "41. Pass notesSalary secrets: pay transparency is great – until you hear what your slacker colleague earns\n",
      "42. Brian Wilson‘His music documented an America that no longer exists’: Brian Wilson’s brilliance, by key collaborator Van Dyke Parks\n",
      "43. FilmF1 the Movie review – spectacular macho melodrama handles Brad Pitt with panache\n",
      "44. Readers' best photographsMonkey business and rock-solid brothers\n",
      "45. Opinion\n",
      "46. It’s The Donald Show … without Donald Trump. Welcome to the G-something or other summit\n",
      "47. ‘Ayahuasca tourism’ is a blight on Indigenous peoples and our environment\n",
      "48. More opinion\n",
      "49. Trump cannot avoid the question much longer – is he going to join Israel’s war or not?\n",
      "50. The Iranian people were starting to win their battle for liberty and prosperity. Then Israel attacked\n"
     ]
    }
   ],
   "source": [
    "%pip install bs4\n",
    "\n",
    "import requests\n",
    "from bs4 import BeautifulSoup\n",
    "\n",
    "# The Guardian News URL\n",
    "url = \"https://www.theguardian.com/international\"\n",
    "\n",
    "# Send request\n",
    "try:\n",
    "    response = requests.get(url)\n",
    "    response.raise_for_status()\n",
    "except requests.exceptions.RequestException as e:\n",
    "    print(f\"Failed to fetch the page: {e}\")\n",
    "    soup = None\n",
    "else:\n",
    "    # Parse the page content\n",
    "    soup = BeautifulSoup(response.text, \"html.parser\")\n",
    "\n",
    "# Find all headlines (h3 and h2 tags)\n",
    "headlines = soup.find_all([\"h2\", \"h3\"])\n",
    "\n",
    "print(\"The Guardian News Headlines:\\n\")\n",
    "\n",
    "# Print first 50 non-empty headlines\n",
    "count = 0\n",
    "for h in headlines:\n",
    "    text = h.get_text(strip=True)\n",
    "    if text:\n",
    "        count += 1\n",
    "        print(f\"{count}. {text}\")\n",
    "    if count == 50:\n",
    "        break"
   ]
  }
 ],
 "metadata": {
  "kernelspec": {
   "display_name": "Python 3",
   "language": "python",
   "name": "python3"
  },
  "language_info": {
   "codemirror_mode": {
    "name": "ipython",
    "version": 3
   },
   "file_extension": ".py",
   "mimetype": "text/x-python",
   "name": "python",
   "nbconvert_exporter": "python",
   "pygments_lexer": "ipython3",
   "version": "3.13.3"
  }
 },
 "nbformat": 4,
 "nbformat_minor": 5
}
