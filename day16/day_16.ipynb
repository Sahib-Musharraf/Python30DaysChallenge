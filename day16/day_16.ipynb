{
 "cells": [
  {
   "cell_type": "markdown",
   "id": "0ba2410b",
   "metadata": {},
   "source": [
    "# ***Day16 Generators and Iterators***\n",
    "\n",
    "***Topic:  yield, iterators, lazy evaluation***\n",
    "\n",
    "***Challenge***\n",
    "-  Generate the first n Fibonacci numbers with a generator\n",
    "\n"
   ]
  },
  {
   "cell_type": "code",
   "execution_count": 2,
   "id": "41178acd",
   "metadata": {},
   "outputs": [
    {
     "name": "stdout",
     "output_type": "stream",
     "text": [
      "0\n",
      "1\n",
      "1\n",
      "2\n",
      "3\n",
      "5\n",
      "8\n",
      "13\n",
      "21\n",
      "34\n",
      "55\n",
      "89\n",
      "144\n",
      "233\n",
      "377\n"
     ]
    }
   ],
   "source": [
    "def fibonacci(n):\n",
    "    a, b = 0, 1           # Initialize the first two Fibonacci numbers\n",
    "    for _ in range(n):    # Loop exactly n times\n",
    "        yield a           # Yield the current number in the sequence\n",
    "        a, b = b, a + b   # Update: next number is the sum of the last two\n",
    "\n",
    "# Using the generator\n",
    "for num in fibonacci(15):\n",
    "    print(num)"
   ]
  }
 ],
 "metadata": {
  "kernelspec": {
   "display_name": "Python 3",
   "language": "python",
   "name": "python3"
  },
  "language_info": {
   "codemirror_mode": {
    "name": "ipython",
    "version": 3
   },
   "file_extension": ".py",
   "mimetype": "text/x-python",
   "name": "python",
   "nbconvert_exporter": "python",
   "pygments_lexer": "ipython3",
   "version": "3.13.3"
  }
 },
 "nbformat": 4,
 "nbformat_minor": 5
}
