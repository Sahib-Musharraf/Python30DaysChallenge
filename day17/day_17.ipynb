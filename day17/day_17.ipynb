{
 "cells": [
  {
   "cell_type": "markdown",
   "id": "9e8fc825",
   "metadata": {},
   "source": [
    "# ***Day 17 Context Managers***\n",
    "\n",
    "Topics\n",
    "-   with statements, custom context managers\n",
    "\n",
    "🎯 Challenge\n",
    "-  Build a context manager for safe file handling"
   ]
  },
  {
   "cell_type": "code",
   "execution_count": 2,
   "id": "3c0cde0f",
   "metadata": {},
   "outputs": [
    {
     "name": "stdout",
     "output_type": "stream",
     "text": [
      "file handed safely\n"
     ]
    }
   ],
   "source": [
    "class file:        \n",
    "    def __enter__(self):\n",
    "        self.file = open(\"mcu.txt\", \"w\")\n",
    "        return self.file\n",
    "\n",
    "    def __exit__(self, *args):\n",
    "        self.file.close()\n",
    "\n",
    "with file() as f:\n",
    "    f.write(\"file handed safely\")\n",
    "\n",
    "# Read and print the content to show the result\n",
    "with open(\"mcu.txt\", \"r\") as f:\n",
    "    print(f.read())\n"
   ]
  }
 ],
 "metadata": {
  "kernelspec": {
   "display_name": "Python 3",
   "language": "python",
   "name": "python3"
  },
  "language_info": {
   "codemirror_mode": {
    "name": "ipython",
    "version": 3
   },
   "file_extension": ".py",
   "mimetype": "text/x-python",
   "name": "python",
   "nbconvert_exporter": "python",
   "pygments_lexer": "ipython3",
   "version": "3.13.3"
  }
 },
 "nbformat": 4,
 "nbformat_minor": 5
}
