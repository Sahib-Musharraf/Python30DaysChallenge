{
 "cells": [
  {
   "cell_type": "markdown",
   "id": "77dd813d",
   "metadata": {},
   "source": [
    "# Day 20: Networking with Python \n",
    "\n",
    "Topics\n",
    "- Sockets, HTTP requests\n",
    "\n",
    "🎯 Challenge\n",
    "-  Fetch and display a webpage’s content"
   ]
  },
  {
   "cell_type": "code",
   "execution_count": 2,
   "id": "6c1c6de9",
   "metadata": {},
   "outputs": [
    {
     "name": "stdout",
     "output_type": "stream",
     "text": [
      "Webpage saved successfully at:\n",
      "C:\\sahib\\New\\figma_homepage.html\n"
     ]
    }
   ],
   "source": [
    "import requests\n",
    "import os\n",
    "\n",
    "# URL of the webpage\n",
    "url = 'https://www.figma.com/'\n",
    "output_dir = r\"C:\\sahib\\New\"\n",
    "\n",
    "# File name\n",
    "filename = 'figma_homepage.html'\n",
    "os.makedirs(output_dir, exist_ok=True)\n",
    "\n",
    "# Full file path\n",
    "file_path = os.path.join(output_dir, filename)\n",
    "\n",
    "# Fetch the webpage\n",
    "response = requests.get(url)\n",
    "\n",
    "# Save the HTML content to the file\n",
    "if response.status_code == 200:\n",
    "    with open(file_path, 'w', encoding='utf-8') as f:\n",
    "        f.write(response.text)\n",
    "    print(f'Webpage saved successfully at:\\n{file_path}')\n",
    "else:\n",
    "    print(f'Failed to fetch webpage. Status code: {response.status_code}')"
   ]
  }
 ],
 "metadata": {
  "kernelspec": {
   "display_name": "Python 3",
   "language": "python",
   "name": "python3"
  },
  "language_info": {
   "codemirror_mode": {
    "name": "ipython",
    "version": 3
   },
   "file_extension": ".py",
   "mimetype": "text/x-python",
   "name": "python",
   "nbconvert_exporter": "python",
   "pygments_lexer": "ipython3",
   "version": "3.13.3"
  }
 },
 "nbformat": 4,
 "nbformat_minor": 5
}
