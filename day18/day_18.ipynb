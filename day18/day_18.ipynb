{
 "cells": [
  {
   "cell_type": "markdown",
   "id": "862ba426",
   "metadata": {},
   "source": [
    "# Day 18 : Metaclasses"
   ]
  },
  {
   "cell_type": "markdown",
   "id": "2eb908d0",
   "metadata": {},
   "source": [
    "**Understanding Metaclasses in Python**\n",
    "\n",
    "A *metaclass* in Python is essentially a class of a class just as classes define how objects behave, metaclasses define how classes behave. They provide a way to customize class creation by modifying or enhancing class definitions at the time of their creation.\n",
    "\n",
    "Metaclasses are primarily used to:\n",
    "\n",
    "* Automatically add attributes or methods to a class.\n",
    "* Enforce specific rules or patterns across classes.\n",
    "* Support frameworks or libraries that require dynamic behavior at the class level (e.g., Django ORM, SQLAlchemy).\n",
    "\n",
    "Here’s how it works: when a class is defined, Python first gathers its body (attributes and methods), then checks for a metaclass. If found, the metaclass takes control of the class creation process and can modify or extend the class before it's finalized.\n",
    "\n",
    "While metaclasses are a powerful feature, they are generally reserved for advanced use cases. For most everyday programming, they’re not required. However, in complex systems or framework development, they can be extremely useful.\n",
    "\n",
    "As a common example, Django uses metaclasses to convert Python classes into database tables automatically when defining models.\n",
    "\n",
    "In summary, if you ever need fine-grained control over how classes are constructed, metaclasses offer that capability — much like how classes give you control over object behavior.\n"
   ]
  },
  {
   "cell_type": "markdown",
   "id": "8c1233d8",
   "metadata": {},
   "source": []
  },
  {
   "cell_type": "code",
   "execution_count": 2,
   "id": "2f295595",
   "metadata": {},
   "outputs": [
    {
     "name": "stdout",
     "output_type": "stream",
     "text": [
      "Hello from Student\n"
     ]
    }
   ],
   "source": [
    "# Simple metaclass\n",
    "class MyMeta(type):\n",
    "    def __new__(cls, name, bases, dct):\n",
    "        # Add a method called 'greet' to the class\n",
    "        dct['greet'] = lambda self: print(\"Hello from\", name)\n",
    "        return super().__new__(cls, name, bases, dct)\n",
    "\n",
    "# Using the metaclass\n",
    "class Student(metaclass=MyMeta):\n",
    "    pass\n",
    "\n",
    "# Create an object\n",
    "s = Student()\n",
    "\n",
    "# Call the method added by the metaclass\n",
    "s.greet()\n"
   ]
  },
  {
   "cell_type": "markdown",
   "id": "1707c907",
   "metadata": {},
   "source": [
    "Challenge\n",
    "-  Enforce a naming convention with a metaclass"
   ]
  },
  {
   "cell_type": "code",
   "execution_count": 3,
   "id": "7941b074",
   "metadata": {},
   "outputs": [
    {
     "ename": "ValueError",
     "evalue": "Attribute 'name' must be in UPPERCASE",
     "output_type": "error",
     "traceback": [
      "\u001b[31m---------------------------------------------------------------------------\u001b[39m",
      "\u001b[31mValueError\u001b[39m                                Traceback (most recent call last)",
      "\u001b[36mCell\u001b[39m\u001b[36m \u001b[39m\u001b[32mIn[3]\u001b[39m\u001b[32m, line 13\u001b[39m\n\u001b[32m     10\u001b[39m     AGE = \u001b[32m0.55\u001b[39m\n\u001b[32m     12\u001b[39m \u001b[38;5;66;03m# This will raise an error because of 'name'\u001b[39;00m\n\u001b[32m---> \u001b[39m\u001b[32m13\u001b[39m \u001b[38;5;28;43;01mclass\u001b[39;49;00m\u001b[38;5;250;43m \u001b[39;49m\u001b[34;43;01mBadClass\u001b[39;49;00m\u001b[43m(\u001b[49m\u001b[43mmetaclass\u001b[49m\u001b[43m=\u001b[49m\u001b[43mUpperCase\u001b[49m\u001b[43m)\u001b[49m\u001b[43m:\u001b[49m\n\u001b[32m     14\u001b[39m \u001b[43m    \u001b[49m\u001b[43mname\u001b[49m\u001b[43m \u001b[49m\u001b[43m=\u001b[49m\u001b[43m \u001b[49m\u001b[33;43m\"\u001b[39;49m\u001b[33;43mSAHIB\u001b[39;49m\u001b[33;43m\"\u001b[39;49m\n\u001b[32m     15\u001b[39m \u001b[43m    \u001b[49m\u001b[43mAGE\u001b[49m\u001b[43m \u001b[49m\u001b[43m=\u001b[49m\u001b[43m \u001b[49m\u001b[32;43m0.55\u001b[39;49m\n",
      "\u001b[36mCell\u001b[39m\u001b[36m \u001b[39m\u001b[32mIn[3]\u001b[39m\u001b[32m, line 5\u001b[39m, in \u001b[36mUpperCase.__new__\u001b[39m\u001b[34m(cls, name, bases, class_dict)\u001b[39m\n\u001b[32m      3\u001b[39m \u001b[38;5;28;01mfor\u001b[39;00m attr_name \u001b[38;5;129;01min\u001b[39;00m class_dict:\n\u001b[32m      4\u001b[39m     \u001b[38;5;28;01mif\u001b[39;00m \u001b[38;5;129;01mnot\u001b[39;00m attr_name.startswith(\u001b[33m'\u001b[39m\u001b[33m__\u001b[39m\u001b[33m'\u001b[39m) \u001b[38;5;129;01mand\u001b[39;00m \u001b[38;5;129;01mnot\u001b[39;00m attr_name.isupper():\n\u001b[32m----> \u001b[39m\u001b[32m5\u001b[39m         \u001b[38;5;28;01mraise\u001b[39;00m \u001b[38;5;167;01mValueError\u001b[39;00m(\u001b[33mf\u001b[39m\u001b[33m\"\u001b[39m\u001b[33mAttribute \u001b[39m\u001b[33m'\u001b[39m\u001b[38;5;132;01m{\u001b[39;00mattr_name\u001b[38;5;132;01m}\u001b[39;00m\u001b[33m'\u001b[39m\u001b[33m must be in UPPERCASE\u001b[39m\u001b[33m\"\u001b[39m)\n\u001b[32m      6\u001b[39m \u001b[38;5;28;01mreturn\u001b[39;00m \u001b[38;5;28msuper\u001b[39m().\u001b[34m__new__\u001b[39m(\u001b[38;5;28mcls\u001b[39m, name, bases, class_dict)\n",
      "\u001b[31mValueError\u001b[39m: Attribute 'name' must be in UPPERCASE"
     ]
    }
   ],
   "source": [
    "class UpperCase(type):\n",
    "    def __new__(cls, name, bases, class_dict):\n",
    "        for attr_name in class_dict:\n",
    "            if not attr_name.startswith('__') and not attr_name.isupper():\n",
    "                raise ValueError(f\"Attribute '{attr_name}' must be in UPPERCASE\")\n",
    "        return super().__new__(cls, name, bases, class_dict)\n",
    "\n",
    "class GoodClass(metaclass=UpperCase):\n",
    "    NAME = \"SAHIB\"\n",
    "    AGE = 0.55\n",
    "    \n",
    "# This will raise an error because of 'name'\n",
    "class BadClass(metaclass=UpperCase):\n",
    "    name = \"SAHIB\"\n",
    "    AGE = 0.55"
   ]
  }
 ],
 "metadata": {
  "kernelspec": {
   "display_name": "Python 3",
   "language": "python",
   "name": "python3"
  },
  "language_info": {
   "codemirror_mode": {
    "name": "ipython",
    "version": 3
   },
   "file_extension": ".py",
   "mimetype": "text/x-python",
   "name": "python",
   "nbconvert_exporter": "python",
   "pygments_lexer": "ipython3",
   "version": "3.13.3"
  }
 },
 "nbformat": 4,
 "nbformat_minor": 5
}
