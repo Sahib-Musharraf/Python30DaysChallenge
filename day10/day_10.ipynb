{
 "cells": [
  {
   "cell_type": "markdown",
   "id": "b98be9f3",
   "metadata": {},
   "source": [
    "# ***Day-10: Exception Handling***"
   ]
  },
  {
   "cell_type": "markdown",
   "id": "c96c91a7",
   "metadata": {},
   "source": [
    "Topics - Try-except, specific exceptions, finally clause"
   ]
  },
  {
   "cell_type": "markdown",
   "id": "5f600cba",
   "metadata": {},
   "source": [
    "Exception Handling : In python it is used to deal with Errors that might happen while a program is running.\n",
    "\n",
    "Exception handling in Python is like having a backup plan when something goes wrong during your program’s execution, instead of crashing, it handles the situation gracefully."
   ]
  },
  {
   "cell_type": "markdown",
   "id": "f5a5981e",
   "metadata": {},
   "source": [
    "Without exception handling:"
   ]
  },
  {
   "cell_type": "code",
   "execution_count": 4,
   "id": "510b2aaf",
   "metadata": {},
   "outputs": [
    {
     "ename": "ZeroDivisionError",
     "evalue": "division by zero",
     "output_type": "error",
     "traceback": [
      "\u001b[31m---------------------------------------------------------------------------\u001b[39m",
      "\u001b[31mZeroDivisionError\u001b[39m                         Traceback (most recent call last)",
      "\u001b[36mCell\u001b[39m\u001b[36m \u001b[39m\u001b[32mIn[4]\u001b[39m\u001b[32m, line 2\u001b[39m\n\u001b[32m      1\u001b[39m amount = \u001b[38;5;28mint\u001b[39m(\u001b[38;5;28minput\u001b[39m(\u001b[33m\"\u001b[39m\u001b[33mEnter the amount: \u001b[39m\u001b[33m\"\u001b[39m))\n\u001b[32m----> \u001b[39m\u001b[32m2\u001b[39m \u001b[38;5;28mprint\u001b[39m(\u001b[32;43m25000\u001b[39;49m\u001b[43m \u001b[49m\u001b[43m/\u001b[49m\u001b[43m \u001b[49m\u001b[43mamount\u001b[49m)  \u001b[38;5;66;03m# If you enter 0, it crashes!\u001b[39;00m\n",
      "\u001b[31mZeroDivisionError\u001b[39m: division by zero"
     ]
    }
   ],
   "source": [
    "amount = int(input(\"Enter the amount: \"))\n",
    "print(25000 / amount)  # If you enter 0, it crashes!\n",
    "\n"
   ]
  },
  {
   "cell_type": "code",
   "execution_count": 9,
   "id": "1dbdae86",
   "metadata": {},
   "outputs": [
    {
     "name": "stdout",
     "output_type": "stream",
     "text": [
      "500.0\n"
     ]
    }
   ],
   "source": [
    "try:\n",
    "    amount = int(input(\"Enter amount: \"))\n",
    "    print(2500 / amount)\n",
    "except ZeroDivisionError:\n",
    "    print(\"You can't divide by zero!\")\n",
    "except ValueError:\n",
    "    print(\"Please enter a valid number.\")"
   ]
  },
  {
   "cell_type": "markdown",
   "id": "6aea67aa",
   "metadata": {},
   "source": [
    "With exception handling:\n",
    "\n",
    " What is a Specific Exception in Python?\n",
    "A specific exception is a particular type of error that Python can recognize and handle individually.\n",
    "\n",
    "Instead of using a general except: (which catches all errors), you can catch specific errors like:\n",
    "\n",
    "ValueError\n",
    "\n",
    "ZeroDivisionError\n",
    "\n",
    "FileNotFoundError\n",
    "\n",
    "IndexError\n",
    "\n",
    "etc.\n",
    "\n",
    "***Why use specific exceptions?***\n",
    "\n",
    "Helps you understand what exactly went wrong.\n",
    "\n",
    "Allows you to handle different errors differently.\n",
    "\n",
    "Makes your code cleaner and more debuggable."
   ]
  },
  {
   "cell_type": "markdown",
   "id": "a7be82de",
   "metadata": {},
   "source": [
    "Specific exceptions"
   ]
  },
  {
   "cell_type": "code",
   "execution_count": 8,
   "id": "d468eefd",
   "metadata": {},
   "outputs": [
    {
     "name": "stdout",
     "output_type": "stream",
     "text": [
      "Result: 0.1111111111111111\n"
     ]
    }
   ],
   "source": [
    "try:\n",
    "    num1 = int(input(\"Enter a number: \"))\n",
    "    num2 = int(input(\"Enter another number: \"))\n",
    "    result = num1 / num2\n",
    "    print(\"Result:\", result)\n",
    "except ValueError:\n",
    "    print(\"Please enter numbers only!\")\n",
    "except ZeroDivisionError:\n",
    "    print(\"You can't divide by zero!\")\n"
   ]
  },
  {
   "cell_type": "markdown",
   "id": "47f8d972",
   "metadata": {},
   "source": [
    "Finnaly Clause\n",
    "\n",
    "The finally block is always executed, no matter what whether an error happens or not."
   ]
  },
  {
   "cell_type": "code",
   "execution_count": 13,
   "id": "7820ac54",
   "metadata": {},
   "outputs": [
    {
     "name": "stdout",
     "output_type": "stream",
     "text": [
      "Result: 1.3235294117647058\n",
      "Received final output\n"
     ]
    }
   ],
   "source": [
    "try:\n",
    "    num = int(input(\"Enter a number: \"))\n",
    "    result = 90 / num\n",
    "    print(\"Result:\", result)\n",
    "except ZeroDivisionError:\n",
    "    print(\"Cannot divide by zero!\")\n",
    "except ValueError:\n",
    "    print(\"Please enter a valid number.\")\n",
    "finally:\n",
    "    print(\"Received final output\")\n"
   ]
  },
  {
   "cell_type": "markdown",
   "id": "ab7ab173",
   "metadata": {},
   "source": [
    "***Challenge : Read numbers from a file and handle errors gracefully***"
   ]
  },
  {
   "cell_type": "code",
   "execution_count": 15,
   "id": "04fa5af3",
   "metadata": {},
   "outputs": [
    {
     "name": "stdout",
     "output_type": "stream",
     "text": [
      "The file 'numbers.txt' does not exist.\n",
      "Read the file\n"
     ]
    }
   ],
   "source": [
    "try:\n",
    "    file = open(\"numbers.txt\", \"r\")\n",
    "    numbers = file.readlines()\n",
    "    for num in numbers:\n",
    "        print(int(num.strip()))\n",
    "except FileNotFoundError:\n",
    "    print(\"The file 'numbers.txt' does not exist.\") \n",
    "except ValueError:\n",
    "    print(\"The file contains non-numeric data.\")   \n",
    "finally:\n",
    "    print(\"Read the file\")\n",
    "    if 'file' in locals():\n",
    "        file.close()"
   ]
  }
 ],
 "metadata": {
  "kernelspec": {
   "display_name": "Python 3",
   "language": "python",
   "name": "python3"
  },
  "language_info": {
   "codemirror_mode": {
    "name": "ipython",
    "version": 3
   },
   "file_extension": ".py",
   "mimetype": "text/x-python",
   "name": "python",
   "nbconvert_exporter": "python",
   "pygments_lexer": "ipython3",
   "version": "3.13.3"
  }
 },
 "nbformat": 4,
 "nbformat_minor": 5
}
