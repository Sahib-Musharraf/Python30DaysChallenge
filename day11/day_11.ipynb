{
 "cells": [
  {
   "cell_type": "markdown",
   "id": "5418fe8c",
   "metadata": {},
   "source": [
    "# ***Day-11: Working with Dates and Times***"
   ]
  },
  {
   "cell_type": "markdown",
   "id": "bef5cff3",
   "metadata": {},
   "source": [
    "Topics - Datetime module, formatting, time differences"
   ]
  },
  {
   "cell_type": "code",
   "execution_count": 6,
   "id": "331bbc7b",
   "metadata": {},
   "outputs": [
    {
     "name": "stdout",
     "output_type": "stream",
     "text": [
      "2025-01-02\n"
     ]
    }
   ],
   "source": [
    "import datetime\n",
    "\n",
    "today = datetime.date(2025,1,2)\n",
    "now = datetime.datetime.now()\n",
    "print(today)"
   ]
  },
  {
   "cell_type": "markdown",
   "id": "4ca708e5",
   "metadata": {},
   "source": [
    "Challenge : Calculate the days between two dates"
   ]
  },
  {
   "cell_type": "code",
   "execution_count": 10,
   "id": "ab4e0560",
   "metadata": {},
   "outputs": [
    {
     "name": "stdout",
     "output_type": "stream",
     "text": [
      "Days between the two dates are : 16\n"
     ]
    }
   ],
   "source": [
    "# It same as above :\n",
    "\n",
    "from datetime import datetime\n",
    "\n",
    "date1 = datetime(2025, 9, 10)\n",
    "date2 = datetime(2025, 8, 25)\n",
    "\n",
    "difference = date1 - date2\n",
    "\n",
    "print(\"Days between the two dates are :\", difference.days)"
   ]
  }
 ],
 "metadata": {
  "kernelspec": {
   "display_name": "Python 3",
   "language": "python",
   "name": "python3"
  },
  "language_info": {
   "codemirror_mode": {
    "name": "ipython",
    "version": 3
   },
   "file_extension": ".py",
   "mimetype": "text/x-python",
   "name": "python",
   "nbconvert_exporter": "python",
   "pygments_lexer": "ipython3",
   "version": "3.13.3"
  }
 },
 "nbformat": 4,
 "nbformat_minor": 5
}
