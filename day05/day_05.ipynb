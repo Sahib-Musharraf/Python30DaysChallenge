{
 "cells": [
  {
   "cell_type": "markdown",
   "id": "10c83883",
   "metadata": {},
   "source": [
    "# ***Day 05: Functions*** "
   ]
  },
  {
   "cell_type": "markdown",
   "id": "30239c86",
   "metadata": {},
   "source": [
    "Function is a block of code that performs a specific task"
   ]
  },
  {
   "cell_type": "code",
   "execution_count": 2,
   "id": "298b119b",
   "metadata": {},
   "outputs": [
    {
     "name": "stdout",
     "output_type": "stream",
     "text": [
      "9\n"
     ]
    }
   ],
   "source": [
    "def sum(a,b):\n",
    "    total = a + b\n",
    "    return total\n",
    "a=sum(4,5)\n",
    "print(a)"
   ]
  },
  {
   "cell_type": "code",
   "execution_count": 8,
   "id": "7260db17",
   "metadata": {},
   "outputs": [
    {
     "name": "stdout",
     "output_type": "stream",
     "text": [
      "user1_exp_list: 850\n",
      "user1_exp_list: 1550\n",
      "user1_exp_list: 2400\n",
      "user2_exp_list: 800\n",
      "user2_exp_list: 1150\n",
      "user2_exp_list: 1900\n"
     ]
    }
   ],
   "source": [
    "#WITHOUT USUNG FUNCTION\n",
    "\n",
    "user1_exp_list = [850,700,850]\n",
    "user2_exp_list = [800,350,750]\n",
    "\n",
    "#Find the total of these user1\n",
    "\n",
    "total = 0\n",
    "for item in user1_exp_list:\n",
    "    total = total+item\n",
    "    print(\"user1_exp_list:\",total)\n",
    "\n",
    "\n",
    "#Find the total of these user2\n",
    "\n",
    "total = 0\n",
    "for item in user2_exp_list:\n",
    "    total = total+item\n",
    "    print(\"user2_exp_list:\",total)\n",
    "\n"
   ]
  },
  {
   "cell_type": "code",
   "execution_count": 17,
   "id": "2379fa12",
   "metadata": {},
   "outputs": [
    {
     "name": "stdout",
     "output_type": "stream",
     "text": [
      "USer 1 total expenses 2400\n",
      "USer 2 total expenses 1900\n"
     ]
    }
   ],
   "source": [
    "#now let's write the same with functions\n",
    "def calculate_total(exp):\n",
    "    total = 0\n",
    "    for item in exp:\n",
    "        total = total+item\n",
    "    return total\n",
    "    \n",
    "user1_exp_list = [850,700,850]\n",
    "user2_exp_list = [800,350,750]\n",
    "\n",
    "user1_total = calculate_total(user1_exp_list)\n",
    "user2_total = calculate_total(user2_exp_list)\n",
    "\n",
    "print(\"USer 1 total expenses\", user1_total)\n",
    "print(\"USer 2 total expenses\", user2_total)"
   ]
  },
  {
   "cell_type": "markdown",
   "id": "8f0810fb",
   "metadata": {},
   "source": [
    "🎯 Challenge\n",
    "- Write a function that computes the sum and average of a list of numbers"
   ]
  },
  {
   "cell_type": "code",
   "execution_count": 48,
   "id": "e1093f7e",
   "metadata": {},
   "outputs": [
    {
     "name": "stdout",
     "output_type": "stream",
     "text": [
      "Total Expenses: 14500\n",
      "Average Expense: 2416.6666666666665\n"
     ]
    }
   ],
   "source": [
    "import builtins\n",
    "\n",
    "def calculate_total_and_average(expenses):\n",
    "    total = builtins.sum(expenses)\n",
    "    average = total / len(expenses)\n",
    "    return total, average\n",
    "\n",
    "expenses = [8000, 2500, 1200, 500, 800, 1500]\n",
    "total, average = calculate_total_and_average(expenses)\n",
    "\n",
    "print(\"Total Expenses:\", total)\n",
    "print(\"Average Expense:\", average)\n"
   ]
  },
  {
   "cell_type": "markdown",
   "id": "24ba1e40",
   "metadata": {},
   "source": [
    "Another Example\n"
   ]
  },
  {
   "cell_type": "code",
   "execution_count": 51,
   "id": "70484afa",
   "metadata": {},
   "outputs": [
    {
     "name": "stdout",
     "output_type": "stream",
     "text": [
      "(8987, 1497.8333333333333)\n"
     ]
    }
   ],
   "source": [
    "def sum_and_avg(numbers):  # This makes a function called sum_and_avg that takes a list of numbers.                  \n",
    "\n",
    "    total = 0 # Start with total = 0. This will add all the numbers.\n",
    "    \n",
    "    count = 0 # Start with count = 0. This counts how many numbers are in the list.\n",
    "\n",
    "    for n in numbers: # Look at each number in the list one by one.\n",
    "        \n",
    "        total = total + n # Add the number to total.\n",
    "\n",
    "        count = count + 1 # Add 1 to count for each number.\n",
    "        \n",
    "    average = total / count # Divide total by count to get the average.\n",
    "\n",
    "    return total, average # Give back the total and the average.\n",
    "    \n",
    "\n",
    "print(sum_and_avg([100, 215, 222, 450, 7850, 150]))\n"
   ]
  }
 ],
 "metadata": {
  "kernelspec": {
   "display_name": "Python 3",
   "language": "python",
   "name": "python3"
  },
  "language_info": {
   "codemirror_mode": {
    "name": "ipython",
    "version": 3
   },
   "file_extension": ".py",
   "mimetype": "text/x-python",
   "name": "python",
   "nbconvert_exporter": "python",
   "pygments_lexer": "ipython3",
   "version": "3.13.3"
  }
 },
 "nbformat": 4,
 "nbformat_minor": 5
}
